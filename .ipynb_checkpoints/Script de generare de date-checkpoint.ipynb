{
 "cells": [
  {
   "cell_type": "code",
   "execution_count": 34,
   "id": "b6337365",
   "metadata": {},
   "outputs": [
    {
     "data": {
      "text/html": [
       "<div>\n",
       "<style scoped>\n",
       "    .dataframe tbody tr th:only-of-type {\n",
       "        vertical-align: middle;\n",
       "    }\n",
       "\n",
       "    .dataframe tbody tr th {\n",
       "        vertical-align: top;\n",
       "    }\n",
       "\n",
       "    .dataframe thead th {\n",
       "        text-align: right;\n",
       "    }\n",
       "</style>\n",
       "<table border=\"1\" class=\"dataframe\">\n",
       "  <thead>\n",
       "    <tr style=\"text-align: right;\">\n",
       "      <th></th>\n",
       "      <th>ID</th>\n",
       "      <th>Grupa</th>\n",
       "      <th>CNP</th>\n",
       "      <th>Email</th>\n",
       "      <th>Varsta</th>\n",
       "      <th>Nume Prenume</th>\n",
       "      <th>Adresa</th>\n",
       "    </tr>\n",
       "  </thead>\n",
       "  <tbody>\n",
       "    <tr>\n",
       "      <th>0</th>\n",
       "      <td>1</td>\n",
       "      <td>1</td>\n",
       "      <td>26604131379</td>\n",
       "      <td>student1@gmail.com</td>\n",
       "      <td>25</td>\n",
       "      <td>Cristian Popescu</td>\n",
       "      <td>Strada Victoriei Nr. 69, Bl. D, Ap. 26</td>\n",
       "    </tr>\n",
       "    <tr>\n",
       "      <th>1</th>\n",
       "      <td>2</td>\n",
       "      <td>1</td>\n",
       "      <td>25804067252</td>\n",
       "      <td>student2@outlook.com</td>\n",
       "      <td>26</td>\n",
       "      <td>Alexandra Vasilescu</td>\n",
       "      <td>Strada Mihai Eminescu Nr. 63, Bl. C, Ap. 32</td>\n",
       "    </tr>\n",
       "    <tr>\n",
       "      <th>2</th>\n",
       "      <td>3</td>\n",
       "      <td>3</td>\n",
       "      <td>26108088610</td>\n",
       "      <td>student3@yahoo.com</td>\n",
       "      <td>29</td>\n",
       "      <td>Andrei Popescu</td>\n",
       "      <td>Strada Victoriei Nr. 14, Bl. A, Ap. 6</td>\n",
       "    </tr>\n",
       "    <tr>\n",
       "      <th>3</th>\n",
       "      <td>4</td>\n",
       "      <td>1</td>\n",
       "      <td>25001275419</td>\n",
       "      <td>student4@outlook.com</td>\n",
       "      <td>20</td>\n",
       "      <td>Alexandra Radu</td>\n",
       "      <td>Strada Mihai Eminescu Nr. 94, Bl. D, Ap. 41</td>\n",
       "    </tr>\n",
       "    <tr>\n",
       "      <th>4</th>\n",
       "      <td>5</td>\n",
       "      <td>5</td>\n",
       "      <td>28703099292</td>\n",
       "      <td>student5@outlook.com</td>\n",
       "      <td>18</td>\n",
       "      <td>Ana Vasilescu</td>\n",
       "      <td>Bulevardul Unirii Nr. 56, Bl. A, Ap. 20</td>\n",
       "    </tr>\n",
       "  </tbody>\n",
       "</table>\n",
       "</div>"
      ],
      "text/plain": [
       "   ID  Grupa          CNP                 Email  Varsta         Nume Prenume   \n",
       "0   1      1  26604131379    student1@gmail.com      25     Cristian Popescu  \\\n",
       "1   2      1  25804067252  student2@outlook.com      26  Alexandra Vasilescu   \n",
       "2   3      3  26108088610    student3@yahoo.com      29       Andrei Popescu   \n",
       "3   4      1  25001275419  student4@outlook.com      20       Alexandra Radu   \n",
       "4   5      5  28703099292  student5@outlook.com      18        Ana Vasilescu   \n",
       "\n",
       "                                        Adresa  \n",
       "0       Strada Victoriei Nr. 69, Bl. D, Ap. 26  \n",
       "1  Strada Mihai Eminescu Nr. 63, Bl. C, Ap. 32  \n",
       "2        Strada Victoriei Nr. 14, Bl. A, Ap. 6  \n",
       "3  Strada Mihai Eminescu Nr. 94, Bl. D, Ap. 41  \n",
       "4      Bulevardul Unirii Nr. 56, Bl. A, Ap. 20  "
      ]
     },
     "execution_count": 34,
     "metadata": {},
     "output_type": "execute_result"
    }
   ],
   "source": [
    "import pandas as pd\n",
    "import numpy as np\n",
    "import random\n",
    "\n",
    "# Generare date studenti\n",
    "num_students = 50\n",
    "\n",
    "# Generare ID\n",
    "student_ids = list(range(1, num_students + 1))\n",
    "\n",
    "# Generare grupe aleatorii\n",
    "num_groups = 5\n",
    "groups = [random.choice(range(1, num_groups + 1)) for _ in range(num_students)]\n",
    "\n",
    "# Generare CNP fictiv (13 cifre unice pentru fiecare student)\n",
    "cnps = [f\"{random.randint(1, 2)}{random.randint(50, 99)}{random.randint(1, 12):02d}{random.randint(1, 28):02d}{random.randint(1000, 9999):04d}\" for _ in range(num_students)]\n",
    "\n",
    "# Generare email fictiv\n",
    "email_domains = ['gmail.com', 'yahoo.com', 'outlook.com']\n",
    "emails = [f\"student{student_id}@{random.choice(email_domains)}\" for student_id in student_ids]\n",
    "\n",
    "# Generare varste intre 18 si 30 de ani\n",
    "ages = [random.randint(18, 30) for _ in range(num_students)]\n",
    "\n",
    "# Generare nume si prenume fictive\n",
    "first_names = [\"Andrei\", \"Maria\", \"Ioana\", \"Vlad\", \"Alexandra\", \"Mihai\", \"Ana\", \"Diana\", \"Cristian\", \"Elena\"]\n",
    "last_names = [\"Popescu\", \"Ionescu\", \"Georgescu\", \"Stan\", \"Marinescu\", \"Dumitrescu\", \"Radu\", \"Ciobanu\", \"Vasilescu\", \"Petrescu\"]\n",
    "\n",
    "names = [f\"{random.choice(first_names)} {random.choice(last_names)}\" for _ in range(num_students)]\n",
    "\n",
    "# Generare adrese fictive\n",
    "streets = [\"Strada Mihai Eminescu\", \"Strada Victoriei\", \"Bulevardul Unirii\", \"Strada Primaverii\", \"Calea Dorobantilor\"]\n",
    "addresses = [f\"{random.choice(streets)} Nr. {random.randint(1, 100)}, Bl. {random.choice(['A', 'B', 'C', 'D'])}, Ap. {random.randint(1, 50)}\" for _ in range(num_students)]\n",
    "\n",
    "# Creare DataFrame\n",
    "data = {\n",
    "    \"ID\": student_ids,\n",
    "    \"Grupa\": groups,\n",
    "    \"CNP\": cnps,\n",
    "    \"Email\": emails,\n",
    "    \"Varsta\": ages,\n",
    "    \"Nume Prenume\": names,\n",
    "    \"Adresa\": addresses\n",
    "}\n",
    "\n",
    "student_df = pd.DataFrame(data)\n",
    "student_df.head()"
   ]
  },
  {
   "cell_type": "code",
   "execution_count": 35,
   "id": "21990f53",
   "metadata": {},
   "outputs": [
    {
     "data": {
      "text/plain": [
       "(50, 7)"
      ]
     },
     "execution_count": 35,
     "metadata": {},
     "output_type": "execute_result"
    }
   ],
   "source": [
    "student_df.shape"
   ]
  },
  {
   "cell_type": "code",
   "execution_count": 36,
   "id": "ca32e01a",
   "metadata": {},
   "outputs": [
    {
     "data": {
      "text/plain": [
       "1"
      ]
     },
     "execution_count": 36,
     "metadata": {},
     "output_type": "execute_result"
    }
   ],
   "source": [
    "student_df.iloc[1,:]['Grupa']"
   ]
  },
  {
   "cell_type": "code",
   "execution_count": 46,
   "id": "cd04dd3a",
   "metadata": {},
   "outputs": [],
   "source": [
    "from selenium import webdriver\n",
    "from selenium.webdriver.chrome.service import Service\n",
    "from selenium.webdriver.chrome.options import Options\n",
    "from selenium.webdriver.common.by import By\n",
    "import time\n"
   ]
  },
  {
   "cell_type": "code",
   "execution_count": 47,
   "id": "9020775b",
   "metadata": {},
   "outputs": [],
   "source": [
    "opts = Options()\n",
    "\n",
    "path = r'C:\\Users\\User\\OneDrive\\Desktop\\Teme Sisteme BD\\chromedriver-win64\\chromedriver.exe'\n",
    "service = Service(path)\n",
    "user_ag = \"Mozilla/5.0 (iPad; CPU OS 12_2 like Mac OS X) AppleWebKit/605.1.15 (KHTML, like Gecko) Mobile/15E148\"\n",
    "opts.add_argument(\"user-agent=\"+user_ag)\n",
    "driver = webdriver.Chrome(service= service, options= opts)\n",
    "url = \"http://192.168.0.142:8080/\"\n",
    "driver.get(url)\n"
   ]
  },
  {
   "cell_type": "code",
   "execution_count": 48,
   "id": "c7a9636e",
   "metadata": {},
   "outputs": [],
   "source": [
    "time.sleep(2)\n",
    "input_field = driver.find_element(by= \"xpath\" , value=\"/html/body/div/div/div/div/div/div[2]/form/div/div/div/div/div[1]/input[1]\")\n",
    "input_field.send_keys(\"pnicola100@gmail.com\")\n",
    "input_field = driver.find_element(by= \"xpath\" , value=\"/html/body/div/div/div/div/div/div[2]/form/div/div/div/div/div[1]/input[2]\")\n",
    "input_field.send_keys(\"123456\")\n",
    "#/html/body/div/div/div/div/div/div[2]/form/div/div/div/div/div[2]/button\n",
    "driver.find_element(by= \"xpath\" , value=\"/html/body/div/div/div/div/div/div[2]/form/div/div/div/div/div[2]/button\").click()\n",
    "time.sleep(1)"
   ]
  },
  {
   "cell_type": "code",
   "execution_count": 40,
   "id": "737a88e7",
   "metadata": {},
   "outputs": [],
   "source": [
    "driver.get(\"http://192.168.0.142:8080/AdaugaStudent\")\n"
   ]
  },
  {
   "cell_type": "code",
   "execution_count": 62,
   "id": "743f704c",
   "metadata": {},
   "outputs": [],
   "source": [
    "for i in range(10, student_df.shape[0]):\n",
    "    while True:\n",
    "            driver.execute_script(\"window.scrollTo(0, document.body.scrollHeight);\")\n",
    "            time.sleep(2)\n",
    "            new_height = driver.execute_script(\"return document.body.scrollHeight\")\n",
    "            if new_height == last_height:\n",
    "                break\n",
    "            last_height = new_height\n",
    "    rand = student_df.iloc[i, :]\n",
    "    input_field = driver.find_element(by= \"xpath\" , value=\"/html/body/div/div/div/div/div/div[2]/div/div/form/div[1]/input\")\n",
    "    input_field.send_keys(rand[\"Nume Prenume\"])\n",
    "    input_field = driver.find_element(by= \"xpath\" , value=\"/html/body/div/div/div/div/div/div[2]/div/div/form/div[2]/input\")\n",
    "    input_field.send_keys(rand[\"Email\"])\n",
    "    input_field = driver.find_element(by= \"xpath\" , value=\"/html/body/div/div/div/div/div/div[2]/div/div/form/div[3]/input\")\n",
    "    input_field.send_keys(str(rand[\"ID\"]))\n",
    "    input_field = driver.find_element(by= \"xpath\" , value=\"/html/body/div/div/div/div/div/div[2]/div/div/form/div[4]/input\")\n",
    "    input_field.send_keys(str(rand[\"Grupa\"]))\n",
    "    input_field = driver.find_element(by= \"xpath\" , value=\"/html/body/div/div/div/div/div/div[2]/div/div/form/div[5]/input\")\n",
    "    input_field.send_keys(str(rand[\"Varsta\"]))\n",
    "    input_field = driver.find_element(by= \"xpath\" , value=\"/html/body/div/div/div/div/div/div[2]/div/div/form/div[6]/input\")\n",
    "    input_field.send_keys(rand[\"Adresa\"])\n",
    "    input_field = driver.find_element(by= \"xpath\" , value=\"/html/body/div/div/div/div/div/div[2]/div/div/form/div[7]/input\")\n",
    "    input_field.send_keys(rand[\"CNP\"])\n",
    "    time.sleep(4)\n",
    "    driver.find_element(by= \"xpath\" , value=\"/html/body/div/div/div/div/div/div[2]/div/div/form/button\").click()\n",
    "    time.sleep(2)\n",
    "    alert = driver.switch_to.alert\n",
    "    alert.accept()\n",
    "    time.sleep(5)\n",
    "   \n",
    "    #/html/body/div/div/div/div/div/div[2]/div/div/form/button"
   ]
  },
  {
   "cell_type": "code",
   "execution_count": 55,
   "id": "7979de1f",
   "metadata": {},
   "outputs": [],
   "source": [
    "driver.get(\"http://192.168.0.142:8080/UpdateElev\")"
   ]
  },
  {
   "cell_type": "code",
   "execution_count": 5,
   "id": "bbf7ddc0",
   "metadata": {},
   "outputs": [],
   "source": [
    "driver.find_element(by= \"xpath\" , value=\"/html/body/div/div/div/div/div/div[2]/div[2]/div[2]/form/div[5]/label/input\").click()"
   ]
  },
  {
   "cell_type": "code",
   "execution_count": 7,
   "id": "be207706",
   "metadata": {},
   "outputs": [],
   "source": [
    "input_field = driver.find_element(by= \"xpath\" , value=\"/html/body/div/div/div/div/div/div[2]/div[2]/div[2]/form/div[6]/input[1]\")\n",
    "input_field.send_keys(\"1\")\n",
    "#/html/body/div/div/div/div/div/div[2]/div[2]/div[2]/form/div[6]/input[2]"
   ]
  },
  {
   "cell_type": "code",
   "execution_count": 37,
   "id": "1006b9ce",
   "metadata": {},
   "outputs": [
    {
     "name": "stdout",
     "output_type": "stream",
     "text": [
      "10\n"
     ]
    }
   ],
   "source": [
    "import random\n",
    "\n",
    "print(random.randint(1,10))"
   ]
  },
  {
   "cell_type": "code",
   "execution_count": 56,
   "id": "c413e79c",
   "metadata": {},
   "outputs": [],
   "source": [
    "note = [1,2,3,4,5,6,7,8,9,10]\n",
    "for i in range (1,51):\n",
    "    materie = 3\n",
    "    #aici inlocuim\n",
    "    for j in range(1, 5):\n",
    "        \n",
    "        driver.find_element(by= \"xpath\" , value=\"/html/body/div/div/div/div/div/div[2]/div[2]/div[2]/form/div[5]/label/input\").click()\n",
    "        input_field = driver.find_element(by= \"xpath\" , value=\"/html/body/div/div/div/div/div/div[2]/div[2]/div[2]/form/div[6]/input[2]\")\n",
    "        input_field.send_keys(str(materie))\n",
    "        input_field = driver.find_element(by= \"xpath\" , value=\"/html/body/div/div/div/div/div/div[2]/div[2]/div[2]/form/div[6]/input[1]\")\n",
    "        input_field.send_keys(str(note[(random.randint(0,7))]))\n",
    "        input_field = driver.find_element(by= \"xpath\" , value=\"/html/body/div/div/div/div/div/div[2]/div[2]/div[3]/div/div/input[1]\")\n",
    "        input_field.send_keys(str(i))\n",
    "        input_field = driver.find_element(by= \"xpath\" , value=\"/html/body/div/div/div/div/div/div[2]/div[2]/div[3]/div/div/input[2]\")\n",
    "        input_field.send_keys(str(note[(random.randint(0,9))]))\n",
    "        time.sleep(2)\n",
    "        driver.find_element(by= \"xpath\" , value=\"/html/body/div/div/div/div/div/div[2]/div[2]/div[3]/div/div/div/button\").click()\n",
    "        time.sleep(2)\n",
    "        alert = driver.switch_to.alert\n",
    "        alert.accept()\n",
    "        \n",
    "        time.sleep(5)\n",
    "        \n",
    "        \n",
    "    "
   ]
  },
  {
   "cell_type": "code",
   "execution_count": null,
   "id": "2953dbcd",
   "metadata": {},
   "outputs": [],
   "source": []
  }
 ],
 "metadata": {
  "kernelspec": {
   "display_name": "Python 3 (ipykernel)",
   "language": "python",
   "name": "python3"
  },
  "language_info": {
   "codemirror_mode": {
    "name": "ipython",
    "version": 3
   },
   "file_extension": ".py",
   "mimetype": "text/x-python",
   "name": "python",
   "nbconvert_exporter": "python",
   "pygments_lexer": "ipython3",
   "version": "3.11.2"
  }
 },
 "nbformat": 4,
 "nbformat_minor": 5
}
